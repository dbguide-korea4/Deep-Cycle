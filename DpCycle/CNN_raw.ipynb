{
 "cells": [
  {
   "cell_type": "markdown",
   "metadata": {
    "colab_type": "text",
    "id": "HHPy5ec9uRWK"
   },
   "source": [
    "# MNIST + CNN"
   ]
  },
  {
   "cell_type": "markdown",
   "metadata": {
    "colab_type": "text",
    "id": "ogwWqjLEvjqb"
   },
   "source": [
    "코드 작성 순서\n",
    "1. Module\n",
    "2. parameter setting\n",
    "3. Data => loader\n",
    "4. Model\n",
    "5.  Loss & Optimizer\n",
    "6. Train\n",
    "7. Test"
   ]
  },
  {
   "cell_type": "code",
   "execution_count": 0,
   "metadata": {
    "colab": {},
    "colab_type": "code",
    "id": "Fscs_BlLyqUO"
   },
   "outputs": [],
   "source": [
    "# 1. Module\n",
    "import torch\n",
    "import torch.nn as nn\n",
    "import torch.optim as optim\n",
    "\n",
    "import torchvision.datasets as dsets\n",
    "import torchvision.transforms as transforms\n",
    "\n",
    "import torch.nn.init"
   ]
  },
  {
   "cell_type": "code",
   "execution_count": 0,
   "metadata": {
    "colab": {},
    "colab_type": "code",
    "id": "8e0HYRWNyzxM"
   },
   "outputs": [],
   "source": [
    "# 2. parameter setting\n",
    "device = 'cuda' if torch.cuda.is_available() else 'cpu'\n",
    "\n",
    "torch.manual_seed(777)\n",
    "if device =='cuda':\n",
    "    torch.cuda.manual_seed_all(777)\n",
    "    \n",
    "learning_rate = 0.001\n",
    "training_epochs = 15\n",
    "batch_size = 100"
   ]
  },
  {
   "cell_type": "code",
   "execution_count": 0,
   "metadata": {
    "colab": {
     "base_uri": "https://localhost:8080/",
     "height": 35
    },
    "colab_type": "code",
    "id": "lieBpTo_15QL",
    "outputId": "18774eed-f660-412e-c925-254fae9ee33d"
   },
   "outputs": [
    {
     "data": {
      "text/plain": [
       "True"
      ]
     },
     "execution_count": 35,
     "metadata": {
      "tags": []
     },
     "output_type": "execute_result"
    }
   ],
   "source": [
    "torch.cuda.is_available()"
   ]
  },
  {
   "cell_type": "code",
   "execution_count": 0,
   "metadata": {
    "colab": {
     "base_uri": "https://localhost:8080/",
     "height": 35
    },
    "colab_type": "code",
    "id": "1qZlJ6NA120X",
    "outputId": "b746e142-8cac-4a92-d047-b6031a67d69f"
   },
   "outputs": [
    {
     "name": "stdout",
     "output_type": "stream",
     "text": [
      "cuda\n"
     ]
    }
   ],
   "source": [
    "print(device)"
   ]
  },
  {
   "cell_type": "code",
   "execution_count": 0,
   "metadata": {
    "colab": {},
    "colab_type": "code",
    "id": "2gT9C2c9zOHa"
   },
   "outputs": [],
   "source": [
    "# 3. Data\n",
    "# MINST Train 데이터\n",
    "mnist_train = dsets.MNIST(root='MNIST_data/',\n",
    "                         train=True,\n",
    "                         transform=transforms.ToTensor(),\n",
    "                         download=True)\n",
    "\n",
    "# MINST Test 데이터\n",
    "mnist_test = dsets.MNIST(root='MNIST_data/',\n",
    "                        train=False,\n",
    "                        transform=transforms.ToTensor(),\n",
    "                        download=True)"
   ]
  },
  {
   "cell_type": "code",
   "execution_count": 0,
   "metadata": {
    "colab": {},
    "colab_type": "code",
    "id": "ffkowKIxz33M"
   },
   "outputs": [],
   "source": [
    "# 모델에 데이터를 쉽게 넣기위해 loader를 만들어줍니다.\n",
    "data_loader = torch.utils.data.DataLoader(dataset=mnist_train,\n",
    "                                         batch_size=batch_size,\n",
    "                                         shuffle=True,\n",
    "                                         drop_last=True)"
   ]
  },
  {
   "cell_type": "code",
   "execution_count": 0,
   "metadata": {
    "colab": {},
    "colab_type": "code",
    "id": "WtgFW_SD0dyG"
   },
   "outputs": [],
   "source": [
    "# 4. Model\n",
    "class CNN(nn.Module):\n",
    "    \n",
    "    def __init__(self):\n",
    "        super(CNN, self).__init__()\n",
    "        \n",
    "        # 1번 Conv Layer\n",
    "        self.layer1 = nn.Sequential(\n",
    "            nn.Conv2d(1, 32, 3, 1, 1),\n",
    "            nn.ReLU(),\n",
    "            nn.MaxPool2d(2)\n",
    "        )\n",
    "        \n",
    "        # 2번 Conv Layer\n",
    "        self.layer2 = nn.Sequential(\n",
    "            nn.Conv2d(32, 64, 3, 1, 1),\n",
    "            nn.ReLU(),\n",
    "            nn.MaxPool2d(2)\n",
    "        )\n",
    "        \n",
    "        # 3번 Conv Layer\n",
    "        self.layer3 = nn.Sequential(\n",
    "            nn.Conv2d(64, 128, 3, 1, 1),\n",
    "            nn.ReLU(),\n",
    "            nn.MaxPool2d(2)\n",
    "        )\n",
    "        \n",
    "        # 4번 FC Layer\n",
    "        self.fc1 = nn.Linear(3*3*128, 625)\n",
    "        self.relu = nn.ReLU()\n",
    "        self.fc2 = nn.Linear(625, 10, bias=True)\n",
    "        \n",
    "        # 가중치 초기화: Conv층은 Feature만 추출하고 실질적인 학습은 FC층에서 이루어집니다.\n",
    "        torch.nn.init.xavier_uniform_(self.fc1.weight)\n",
    "        torch.nn.init.xavier_uniform_(self.fc2.weight)\n",
    "        \n",
    "    def forward(self, x):\n",
    "        out = self.layer1(x)\n",
    "        out = self.layer2(out)\n",
    "        out = self.layer3(out)\n",
    "        \n",
    "        out = out.view(out.size(0), -1) # FC에 넣기위에 size를 맞춰줍니다. (batch, channel, height, width) => (batch, channel*height*width)\n",
    "        out = self.fc1(out)\n",
    "        out = self.relu(out)\n",
    "        out = self.fc2(out)\n",
    "        return out"
   ]
  },
  {
   "cell_type": "code",
   "execution_count": 0,
   "metadata": {
    "colab": {
     "base_uri": "https://localhost:8080/",
     "height": 377
    },
    "colab_type": "code",
    "id": "zmmYBBhn1wok",
    "outputId": "86ff1bb0-a828-47bc-ed0b-41fdcefecacc"
   },
   "outputs": [
    {
     "data": {
      "text/plain": [
       "CNN(\n",
       "  (layer1): Sequential(\n",
       "    (0): Conv2d(1, 32, kernel_size=(3, 3), stride=(1, 1), padding=(1, 1))\n",
       "    (1): ReLU()\n",
       "    (2): MaxPool2d(kernel_size=2, stride=2, padding=0, dilation=1, ceil_mode=False)\n",
       "  )\n",
       "  (layer2): Sequential(\n",
       "    (0): Conv2d(32, 64, kernel_size=(3, 3), stride=(1, 1), padding=(1, 1))\n",
       "    (1): ReLU()\n",
       "    (2): MaxPool2d(kernel_size=2, stride=2, padding=0, dilation=1, ceil_mode=False)\n",
       "  )\n",
       "  (layer3): Sequential(\n",
       "    (0): Conv2d(64, 128, kernel_size=(3, 3), stride=(1, 1), padding=(1, 1))\n",
       "    (1): ReLU()\n",
       "    (2): MaxPool2d(kernel_size=2, stride=2, padding=0, dilation=1, ceil_mode=False)\n",
       "  )\n",
       "  (fc1): Linear(in_features=1152, out_features=625, bias=True)\n",
       "  (relu): ReLU()\n",
       "  (fc2): Linear(in_features=625, out_features=10, bias=True)\n",
       ")"
      ]
     },
     "execution_count": 77,
     "metadata": {
      "tags": []
     },
     "output_type": "execute_result"
    }
   ],
   "source": [
    "model = CNN().to(device)\n",
    "model # 모델 구조를 확인합니다."
   ]
  },
  {
   "cell_type": "code",
   "execution_count": 0,
   "metadata": {
    "colab": {
     "base_uri": "https://localhost:8080/",
     "height": 35
    },
    "colab_type": "code",
    "id": "831PDXSl82ot",
    "outputId": "5b88d5a3-1d33-4409-d884-501f7bbb4d3c"
   },
   "outputs": [
    {
     "name": "stdout",
     "output_type": "stream",
     "text": [
      "torch.Size([1, 10])\n"
     ]
    }
   ],
   "source": [
    "# 모델 테스트: 임의의 Tensor를 넣어서 사이즈가 잘 나오는지 확인합니다.\n",
    "value = torch.Tensor(1, 1, 28, 28).to(device)\n",
    "print(model(value).shape)"
   ]
  },
  {
   "cell_type": "code",
   "execution_count": 0,
   "metadata": {
    "colab": {},
    "colab_type": "code",
    "id": "bIpz_rHe2Cmk"
   },
   "outputs": [],
   "source": [
    "# 5. Loss, Optimizer\n",
    "criterion = nn.CrossEntropyLoss().to(device) # loss 지정\n",
    "optimizer = optim.Adam(model.parameters(), lr=learning_rate) # optimizer 지정"
   ]
  },
  {
   "cell_type": "code",
   "execution_count": 0,
   "metadata": {
    "colab": {
     "base_uri": "https://localhost:8080/",
     "height": 323
    },
    "colab_type": "code",
    "id": "H0Vq2Whq2DGc",
    "outputId": "5e5423ea-3ddf-40b4-87c8-2dc02ecc4e0d"
   },
   "outputs": [
    {
     "name": "stdout",
     "output_type": "stream",
     "text": [
      "Learning Started!\n",
      "[Epoch:1] cost = 0.17660583555698395\n",
      "[Epoch:2] cost = 0.041594985872507095\n",
      "[Epoch:3] cost = 0.030163023620843887\n",
      "[Epoch:4] cost = 0.022394094616174698\n",
      "[Epoch:5] cost = 0.017288245260715485\n",
      "[Epoch:6] cost = 0.014867338351905346\n",
      "[Epoch:7] cost = 0.012478440999984741\n",
      "[Epoch:8] cost = 0.010354137048125267\n",
      "[Epoch:9] cost = 0.009000550955533981\n",
      "[Epoch:10] cost = 0.006202113814651966\n",
      "[Epoch:11] cost = 0.007943510077893734\n",
      "[Epoch:12] cost = 0.007082311902195215\n",
      "[Epoch:13] cost = 0.0065126265399158\n",
      "[Epoch:14] cost = 0.004620209336280823\n",
      "[Epoch:15] cost = 0.0062331282533705235\n",
      "Learning Finished!\n"
     ]
    }
   ],
   "source": [
    "# 6. Train\n",
    "total_batch = len(data_loader) # 전체 배치 개수\n",
    "print('Learning Started!')\n",
    "\n",
    "for epoch in range(training_epochs): # 15 에폭\n",
    "    avg_cost = 0 # 각 에폭의 loss\n",
    "    \n",
    "    for X, Y in data_loader:\n",
    "        X = X.to(device)\n",
    "        Y = Y.to(device)\n",
    "        \n",
    "        optimizer.zero_grad() # \n",
    "        hypothesis = model(X) # CNN을 돌렸을때 예측값(y)\n",
    "        \n",
    "        cost = criterion(hypothesis, Y) # 예측값과 실제값 사이의 Loss 계산\n",
    "        cost.backward() # Backpropa로 학습\n",
    "        optimizer.step() # Optimizer\n",
    "        \n",
    "        avg_cost += cost / total_batch # 각 batch의 cost값을 모두 더한 후 전체 batch로 나눠 1에폭의 cost를 구한다(전체 batch의 평균값)\n",
    "        \n",
    "    print('[Epoch:{}] cost = {}'.format(epoch+1, avg_cost))\n",
    "    \n",
    "print('Learning Finished!')"
   ]
  },
  {
   "cell_type": "code",
   "execution_count": 0,
   "metadata": {
    "colab": {
     "base_uri": "https://localhost:8080/",
     "height": 107
    },
    "colab_type": "code",
    "id": "Vy55oCD_2DKL",
    "outputId": "5cde9200-3560-4c7c-ae4b-d133fbaa3ea7"
   },
   "outputs": [
    {
     "name": "stdout",
     "output_type": "stream",
     "text": [
      "Accuracy: 0.9888999462127686\n"
     ]
    },
    {
     "name": "stderr",
     "output_type": "stream",
     "text": [
      "/usr/local/lib/python3.6/dist-packages/torchvision/datasets/mnist.py:58: UserWarning: test_data has been renamed data\n",
      "  warnings.warn(\"test_data has been renamed data\")\n",
      "/usr/local/lib/python3.6/dist-packages/torchvision/datasets/mnist.py:48: UserWarning: test_labels has been renamed targets\n",
      "  warnings.warn(\"test_labels has been renamed targets\")\n"
     ]
    }
   ],
   "source": [
    "# 7. Test\n",
    "with torch.no_grad():\n",
    "    X_test = mnist_test.test_data.view(len(mnist_test), 1, 28, 28).float().to(device) # test Data\n",
    "    Y_test = mnist_test.test_labels.to(device) # test label\n",
    "    \n",
    "    prediction = model(X_test)\n",
    "    correct_prediction = torch.argmax(prediction, 1) == Y_test # 예측값과 내 값이 맞는지 확인\n",
    "    accuracy = correct_prediction.float().mean()\n",
    "    print(\"Accuracy:\", accuracy.item())"
   ]
  }
 ],
 "metadata": {
  "accelerator": "GPU",
  "colab": {
   "collapsed_sections": [],
   "name": "CNN_raw",
   "provenance": [],
   "version": "0.3.2"
  },
  "kernelspec": {
   "display_name": "Python 3",
   "language": "python",
   "name": "python3"
  },
  "language_info": {
   "codemirror_mode": {
    "name": "ipython",
    "version": 3
   },
   "file_extension": ".py",
   "mimetype": "text/x-python",
   "name": "python",
   "nbconvert_exporter": "python",
   "pygments_lexer": "ipython3",
   "version": "3.7.3"
  }
 },
 "nbformat": 4,
 "nbformat_minor": 1
}
