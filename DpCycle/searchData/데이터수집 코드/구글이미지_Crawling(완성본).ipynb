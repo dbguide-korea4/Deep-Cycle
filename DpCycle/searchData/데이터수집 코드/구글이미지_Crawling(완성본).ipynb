{
 "cells": [
  {
   "cell_type": "code",
   "execution_count": 15,
   "metadata": {},
   "outputs": [],
   "source": [
    "class Search:\n",
    "    def __init__(self, keywords):\n",
    "        self.query = '+'.join(keywords.split(' '))\n",
    "    \n",
    "    def google_imgs_se(self, n_round=10):\n",
    "        import requests\n",
    "        import time\n",
    "        import json, os\n",
    "        import urllib.request\n",
    "        from bs4 import BeautifulSoup\n",
    "        from selenium import webdriver\n",
    "        \n",
    "        driver = webdriver.Chrome()\n",
    "        url= f'https://www.google.com/search?q=={self.query}&tbm=isch'\n",
    "        driver.get(url)\n",
    "        time.sleep(1)\n",
    "        driver.find_elements_by_css_selector(\"#res #rg_s .rg_el\")[1].click()\n",
    "        n_except = 0\n",
    "        b = 0\n",
    "        \n",
    "        for n in range(10):\n",
    "            try:\n",
    "                time.sleep(1)\n",
    "                dom = BeautifulSoup(driver.page_source, \"lxml\")\n",
    "                image_url = [_[\"src\"] for _ in dom.select(\"#irc_cc .irc_mimg a img\") if _.has_attr(\"src\")]\n",
    "                \n",
    "                \n",
    "                for a in range(len(image_url)):\n",
    "                    try:\n",
    "                        url = image_url[a]\n",
    "                        outpath = \"D:/google_crawling/\"\n",
    "                        outfile = f\"img{a+b+1}.jpg\"\n",
    "                        if not os.path.isdir(outpath):\n",
    "                            os.makedirs(outpath)\n",
    "                        urllib.request.urlretrieve(url, outpath+outfile)\n",
    "                    except:\n",
    "                        pass\n",
    "                #time.sleep(1)\n",
    "                b = b+a+1\n",
    "                driver.find_elements_by_css_selector(\"#irc-cl #irc-rac\")[0].click()\n",
    "                time.sleep(1)\n",
    "                driver.find_elements_by_css_selector(\"#irc-cl #irc-rac\")[0].click()\n",
    "                time.sleep(1)\n",
    "                driver.find_elements_by_css_selector(\"#irc-cl #irc-rac\")[0].click()\n",
    "            except:\n",
    "                print(f'{n}번째에서 failed')\n",
    "                pass\n",
    "            \n",
    "        driver.close()"
   ]
  },
  {
   "cell_type": "code",
   "execution_count": 16,
   "metadata": {},
   "outputs": [],
   "source": [
    "search = Search('페트병')"
   ]
  },
  {
   "cell_type": "code",
   "execution_count": 17,
   "metadata": {},
   "outputs": [],
   "source": [
    "search.google_imgs_se()"
   ]
  },
  {
   "cell_type": "code",
   "execution_count": null,
   "metadata": {},
   "outputs": [],
   "source": []
  }
 ],
 "metadata": {
  "kernelspec": {
   "display_name": "Python 3",
   "language": "python",
   "name": "python3"
  },
  "language_info": {
   "codemirror_mode": {
    "name": "ipython",
    "version": 3
   },
   "file_extension": ".py",
   "mimetype": "text/x-python",
   "name": "python",
   "nbconvert_exporter": "python",
   "pygments_lexer": "ipython3",
   "version": "3.7.3"
  }
 },
 "nbformat": 4,
 "nbformat_minor": 2
}
