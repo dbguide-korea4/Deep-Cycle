{
  "nbformat": 4,
  "nbformat_minor": 0,
  "metadata": {
    "colab": {
      "name": "keras4.ipynb",
      "version": "0.3.2",
      "provenance": [],
      "collapsed_sections": []
    },
    "kernelspec": {
      "name": "python3",
      "display_name": "Python 3"
    },
    "accelerator": "GPU"
  },
  "cells": [
    {
      "cell_type": "code",
      "metadata": {
        "id": "JCvhMH4SqXMc",
        "colab_type": "code",
        "colab": {
          "base_uri": "https://localhost:8080/",
          "height": 35
        },
        "outputId": "4d6b51f1-f421-437d-ddbd-88a8319cb73b"
      },
      "source": [
        "from google.colab import drive\n",
        "drive.mount('/drive/')"
      ],
      "execution_count": 12,
      "outputs": [
        {
          "output_type": "stream",
          "text": [
            "Drive already mounted at /drive/; to attempt to forcibly remount, call drive.mount(\"/drive/\", force_remount=True).\n"
          ],
          "name": "stdout"
        }
      ]
    },
    {
      "cell_type": "code",
      "metadata": {
        "id": "08_g260UqbvP",
        "colab_type": "code",
        "colab": {}
      },
      "source": [
        "from keras import models, layers\n",
        "from keras.applications import VGG16\n",
        "from keras import Input\n",
        "from keras.models import Model\n",
        "from keras.preprocessing.image import ImageDataGenerator\n",
        "from keras import optimizers, initializers, regularizers, metrics\n",
        "from keras.callbacks import ModelCheckpoint\n",
        "import os\n",
        "from glob import glob\n",
        "from PIL import Image\n",
        "import matplotlib.pyplot as plt\n",
        "import numpy as np\n",
        "import math\n",
        " \n",
        " \n",
        " \n",
        "train_datagen = ImageDataGenerator(\n",
        "    rotation_range=40,\n",
        "    width_shift_range=0.2,\n",
        "    height_shift_range=0.2,\n",
        "    shear_range=0.2,\n",
        "    zoom_range=0.2,\n",
        "    horizontal_flip=True,\n",
        "    rescale=1./255)\n",
        "val_datagen = ImageDataGenerator(rescale=1./255)\n",
        "test_datagen = ImageDataGenerator(rescale=1./255)\n",
        " \n",
        "train_dir = os.path.join('/drive/My Drive/Colab Notebooks/train')\n",
        "val_dir = os.path.join('/drive/My Drive/Colab Notebooks/valid')\n",
        "test_dir = os.path.join('/drive/My Drive/Colab Notebooks/test')"
      ],
      "execution_count": 0,
      "outputs": []
    },
    {
      "cell_type": "code",
      "metadata": {
        "id": "yxmmKa6pqyAg",
        "colab_type": "code",
        "colab": {
          "base_uri": "https://localhost:8080/",
          "height": 53
        },
        "outputId": "217d05c8-2228-4c7d-815b-d89a50a3b11b"
      },
      "source": [
        "train_generator = train_datagen.flow_from_directory(train_dir, batch_size=10, target_size=(220, 200), color_mode='rgb',class_mode='categorical')\n",
        "val_generator = val_datagen.flow_from_directory(val_dir, batch_size=10, target_size=(220, 200), color_mode='rgb',class_mode='categorical')\n",
        " \n",
        "input_tensor = Input(shape=(220, 200, 3), dtype='float32', name='input')\n"
      ],
      "execution_count": 52,
      "outputs": [
        {
          "output_type": "stream",
          "text": [
            "Found 274 images belonging to 6 classes.\n",
            "Found 49 images belonging to 6 classes.\n"
          ],
          "name": "stdout"
        }
      ]
    },
    {
      "cell_type": "code",
      "metadata": {
        "id": "DE57-BWgq6is",
        "colab_type": "code",
        "colab": {
          "base_uri": "https://localhost:8080/",
          "height": 827
        },
        "outputId": "a66486ef-f039-4388-d4e5-1cbfe0265db7"
      },
      "source": [
        "pre_trained_vgg = VGG16(weights='imagenet', include_top=False, input_shape=(220, 200, 3))\n",
        "pre_trained_vgg.trainable = False\n",
        "pre_trained_vgg.summary()"
      ],
      "execution_count": 53,
      "outputs": [
        {
          "output_type": "stream",
          "text": [
            "_________________________________________________________________\n",
            "Layer (type)                 Output Shape              Param #   \n",
            "=================================================================\n",
            "input_4 (InputLayer)         (None, 220, 200, 3)       0         \n",
            "_________________________________________________________________\n",
            "block1_conv1 (Conv2D)        (None, 220, 200, 64)      1792      \n",
            "_________________________________________________________________\n",
            "block1_conv2 (Conv2D)        (None, 220, 200, 64)      36928     \n",
            "_________________________________________________________________\n",
            "block1_pool (MaxPooling2D)   (None, 110, 100, 64)      0         \n",
            "_________________________________________________________________\n",
            "block2_conv1 (Conv2D)        (None, 110, 100, 128)     73856     \n",
            "_________________________________________________________________\n",
            "block2_conv2 (Conv2D)        (None, 110, 100, 128)     147584    \n",
            "_________________________________________________________________\n",
            "block2_pool (MaxPooling2D)   (None, 55, 50, 128)       0         \n",
            "_________________________________________________________________\n",
            "block3_conv1 (Conv2D)        (None, 55, 50, 256)       295168    \n",
            "_________________________________________________________________\n",
            "block3_conv2 (Conv2D)        (None, 55, 50, 256)       590080    \n",
            "_________________________________________________________________\n",
            "block3_conv3 (Conv2D)        (None, 55, 50, 256)       590080    \n",
            "_________________________________________________________________\n",
            "block3_pool (MaxPooling2D)   (None, 27, 25, 256)       0         \n",
            "_________________________________________________________________\n",
            "block4_conv1 (Conv2D)        (None, 27, 25, 512)       1180160   \n",
            "_________________________________________________________________\n",
            "block4_conv2 (Conv2D)        (None, 27, 25, 512)       2359808   \n",
            "_________________________________________________________________\n",
            "block4_conv3 (Conv2D)        (None, 27, 25, 512)       2359808   \n",
            "_________________________________________________________________\n",
            "block4_pool (MaxPooling2D)   (None, 13, 12, 512)       0         \n",
            "_________________________________________________________________\n",
            "block5_conv1 (Conv2D)        (None, 13, 12, 512)       2359808   \n",
            "_________________________________________________________________\n",
            "block5_conv2 (Conv2D)        (None, 13, 12, 512)       2359808   \n",
            "_________________________________________________________________\n",
            "block5_conv3 (Conv2D)        (None, 13, 12, 512)       2359808   \n",
            "_________________________________________________________________\n",
            "block5_pool (MaxPooling2D)   (None, 6, 6, 512)         0         \n",
            "=================================================================\n",
            "Total params: 14,714,688\n",
            "Trainable params: 0\n",
            "Non-trainable params: 14,714,688\n",
            "_________________________________________________________________\n"
          ],
          "name": "stdout"
        }
      ]
    },
    {
      "cell_type": "code",
      "metadata": {
        "id": "OOLkqbUeq_6F",
        "colab_type": "code",
        "colab": {
          "base_uri": "https://localhost:8080/",
          "height": 359
        },
        "outputId": "9848c936-edad-4f8e-f560-7cfd09d573dd"
      },
      "source": [
        "additional_model = models.Sequential()\n",
        "additional_model.add(pre_trained_vgg)\n",
        "additional_model.add(layers.Flatten())\n",
        "additional_model.add(layers.Dense(4096, activation='relu'))\n",
        "additional_model.add(layers.Dense(2048, activation='relu'))\n",
        "additional_model.add(layers.Dense(1024, activation='relu'))\n",
        "additional_model.add(layers.Dense(5, activation='softmax'))\n",
        " \n",
        " \n",
        "additional_model.summary()\n"
      ],
      "execution_count": 30,
      "outputs": [
        {
          "output_type": "stream",
          "text": [
            "_________________________________________________________________\n",
            "Layer (type)                 Output Shape              Param #   \n",
            "=================================================================\n",
            "vgg16 (Model)                (None, 6, 6, 512)         14714688  \n",
            "_________________________________________________________________\n",
            "flatten_4 (Flatten)          (None, 18432)             0         \n",
            "_________________________________________________________________\n",
            "dense_13 (Dense)             (None, 4096)              75501568  \n",
            "_________________________________________________________________\n",
            "dense_14 (Dense)             (None, 2048)              8390656   \n",
            "_________________________________________________________________\n",
            "dense_15 (Dense)             (None, 1024)              2098176   \n",
            "_________________________________________________________________\n",
            "dense_16 (Dense)             (None, 6)                 6150      \n",
            "=================================================================\n",
            "Total params: 100,711,238\n",
            "Trainable params: 85,996,550\n",
            "Non-trainable params: 14,714,688\n",
            "_________________________________________________________________\n"
          ],
          "name": "stdout"
        }
      ]
    },
    {
      "cell_type": "code",
      "metadata": {
        "id": "Rk91pW_urHgp",
        "colab_type": "code",
        "colab": {
          "base_uri": "https://localhost:8080/",
          "height": 1000
        },
        "outputId": "7f1ca446-965f-4747-c91d-e4e55a889988"
      },
      "source": [
        "checkpoint = ModelCheckpoint(filepath='pretrained_VGG_weight.hdf5', \n",
        "            monitor='loss', \n",
        "            mode='min', \n",
        "            save_best_only=True)\n",
        " \n",
        "additional_model.compile(loss='categorical_crossentropy', optimizer=optimizers.RMSprop(lr=2e-5), metrics=['acc'])\n",
        " \n",
        " \n",
        "history = additional_model.fit_generator(train_generator, \n",
        "            steps_per_epoch=math.ceil(train_generator.n / train_generator.batch_size), \n",
        "            epochs=100, \n",
        "            validation_data=val_generator, \n",
        "            validation_steps=math.ceil(val_generator.n / val_generator.batch_size), \n",
        "            callbacks=[checkpoint])"
      ],
      "execution_count": 31,
      "outputs": [
        {
          "output_type": "stream",
          "text": [
            "Epoch 1/100\n",
            "28/28 [==============================] - 12s 430ms/step - loss: 1.2317 - acc: 0.5234 - val_loss: 1.3252 - val_acc: 0.4286\n",
            "Epoch 2/100\n",
            "28/28 [==============================] - 11s 387ms/step - loss: 0.7306 - acc: 0.7160 - val_loss: 1.1755 - val_acc: 0.3878\n",
            "Epoch 3/100\n",
            "28/28 [==============================] - 11s 386ms/step - loss: 0.6100 - acc: 0.7716 - val_loss: 1.1281 - val_acc: 0.6735\n",
            "Epoch 4/100\n",
            "28/28 [==============================] - 12s 418ms/step - loss: 0.4693 - acc: 0.8213 - val_loss: 1.1107 - val_acc: 0.5714\n",
            "Epoch 5/100\n",
            "28/28 [==============================] - 12s 419ms/step - loss: 0.3770 - acc: 0.8646 - val_loss: 0.7255 - val_acc: 0.7143\n",
            "Epoch 6/100\n",
            "28/28 [==============================] - 11s 406ms/step - loss: 0.3661 - acc: 0.8606 - val_loss: 0.7606 - val_acc: 0.7143\n",
            "Epoch 7/100\n",
            "28/28 [==============================] - 12s 422ms/step - loss: 0.3258 - acc: 0.8749 - val_loss: 1.3857 - val_acc: 0.6122\n",
            "Epoch 8/100\n",
            "28/28 [==============================] - 11s 410ms/step - loss: 0.3222 - acc: 0.8912 - val_loss: 0.8047 - val_acc: 0.7347\n",
            "Epoch 9/100\n",
            "28/28 [==============================] - 11s 405ms/step - loss: 0.2264 - acc: 0.9142 - val_loss: 0.6829 - val_acc: 0.8163\n",
            "Epoch 10/100\n",
            "28/28 [==============================] - 11s 406ms/step - loss: 0.2284 - acc: 0.9106 - val_loss: 1.1418 - val_acc: 0.7347\n",
            "Epoch 11/100\n",
            "28/28 [==============================] - 11s 397ms/step - loss: 0.1930 - acc: 0.9214 - val_loss: 0.9523 - val_acc: 0.6939\n",
            "Epoch 12/100\n",
            "28/28 [==============================] - 11s 391ms/step - loss: 0.2312 - acc: 0.9126 - val_loss: 0.8460 - val_acc: 0.7143\n",
            "Epoch 13/100\n",
            "28/28 [==============================] - 11s 394ms/step - loss: 0.1637 - acc: 0.9428 - val_loss: 0.5759 - val_acc: 0.7755\n",
            "Epoch 14/100\n",
            "28/28 [==============================] - 11s 393ms/step - loss: 0.1792 - acc: 0.9376 - val_loss: 1.1368 - val_acc: 0.7347\n",
            "Epoch 15/100\n",
            "28/28 [==============================] - 11s 383ms/step - loss: 0.1871 - acc: 0.9341 - val_loss: 0.8675 - val_acc: 0.7551\n",
            "Epoch 16/100\n",
            "28/28 [==============================] - 11s 376ms/step - loss: 0.1909 - acc: 0.9269 - val_loss: 0.6994 - val_acc: 0.7959\n",
            "Epoch 17/100\n",
            "28/28 [==============================] - 11s 409ms/step - loss: 0.1470 - acc: 0.9428 - val_loss: 1.0760 - val_acc: 0.6939\n",
            "Epoch 18/100\n",
            "28/28 [==============================] - 11s 384ms/step - loss: 0.1941 - acc: 0.9357 - val_loss: 1.3436 - val_acc: 0.6939\n",
            "Epoch 19/100\n",
            "28/28 [==============================] - 11s 378ms/step - loss: 0.1915 - acc: 0.9305 - val_loss: 1.7409 - val_acc: 0.6327\n",
            "Epoch 20/100\n",
            "28/28 [==============================] - 11s 377ms/step - loss: 0.1792 - acc: 0.9214 - val_loss: 1.3753 - val_acc: 0.6735\n",
            "Epoch 21/100\n",
            "28/28 [==============================] - 11s 386ms/step - loss: 0.1809 - acc: 0.9468 - val_loss: 1.4777 - val_acc: 0.6531\n",
            "Epoch 22/100\n",
            "28/28 [==============================] - 11s 401ms/step - loss: 0.1212 - acc: 0.9535 - val_loss: 0.8666 - val_acc: 0.7959\n",
            "Epoch 23/100\n",
            "28/28 [==============================] - 11s 392ms/step - loss: 0.1302 - acc: 0.9464 - val_loss: 1.3360 - val_acc: 0.6939\n",
            "Epoch 24/100\n",
            "28/28 [==============================] - 11s 393ms/step - loss: 0.1571 - acc: 0.9428 - val_loss: 0.9355 - val_acc: 0.7347\n",
            "Epoch 25/100\n",
            "28/28 [==============================] - 11s 391ms/step - loss: 0.1517 - acc: 0.9500 - val_loss: 1.1144 - val_acc: 0.6939\n",
            "Epoch 26/100\n",
            "28/28 [==============================] - 11s 389ms/step - loss: 0.1364 - acc: 0.9412 - val_loss: 1.0183 - val_acc: 0.6939\n",
            "Epoch 27/100\n",
            "28/28 [==============================] - 11s 388ms/step - loss: 0.1282 - acc: 0.9464 - val_loss: 1.1615 - val_acc: 0.7143\n",
            "Epoch 28/100\n",
            "28/28 [==============================] - 11s 407ms/step - loss: 0.1492 - acc: 0.9464 - val_loss: 1.1839 - val_acc: 0.7755\n",
            "Epoch 29/100\n",
            "28/28 [==============================] - 11s 380ms/step - loss: 0.1348 - acc: 0.9607 - val_loss: 0.8527 - val_acc: 0.7551\n",
            "Epoch 30/100\n",
            "28/28 [==============================] - 11s 382ms/step - loss: 0.0739 - acc: 0.9750 - val_loss: 1.8885 - val_acc: 0.6122\n",
            "Epoch 31/100\n",
            "28/28 [==============================] - 11s 397ms/step - loss: 0.1597 - acc: 0.9376 - val_loss: 1.1070 - val_acc: 0.8163\n",
            "Epoch 32/100\n",
            "28/28 [==============================] - 12s 415ms/step - loss: 0.0943 - acc: 0.9607 - val_loss: 1.1297 - val_acc: 0.7755\n",
            "Epoch 33/100\n",
            "28/28 [==============================] - 12s 413ms/step - loss: 0.1465 - acc: 0.9392 - val_loss: 0.8580 - val_acc: 0.7959\n",
            "Epoch 34/100\n",
            "28/28 [==============================] - 11s 410ms/step - loss: 0.1163 - acc: 0.9643 - val_loss: 1.2079 - val_acc: 0.7551\n",
            "Epoch 35/100\n",
            "28/28 [==============================] - 12s 418ms/step - loss: 0.1003 - acc: 0.9535 - val_loss: 1.2527 - val_acc: 0.6939\n",
            "Epoch 36/100\n",
            "28/28 [==============================] - 12s 415ms/step - loss: 0.0952 - acc: 0.9643 - val_loss: 1.3588 - val_acc: 0.7347\n",
            "Epoch 37/100\n",
            "28/28 [==============================] - 12s 414ms/step - loss: 0.1078 - acc: 0.9607 - val_loss: 1.0293 - val_acc: 0.7347\n",
            "Epoch 38/100\n",
            "28/28 [==============================] - 12s 412ms/step - loss: 0.0964 - acc: 0.9643 - val_loss: 1.1129 - val_acc: 0.7143\n",
            "Epoch 39/100\n",
            "28/28 [==============================] - 12s 415ms/step - loss: 0.1014 - acc: 0.9643 - val_loss: 1.1845 - val_acc: 0.7551\n",
            "Epoch 40/100\n",
            "28/28 [==============================] - 12s 417ms/step - loss: 0.0792 - acc: 0.9750 - val_loss: 1.4986 - val_acc: 0.6939\n",
            "Epoch 41/100\n",
            "28/28 [==============================] - 11s 410ms/step - loss: 0.1100 - acc: 0.9464 - val_loss: 1.0008 - val_acc: 0.7551\n",
            "Epoch 42/100\n",
            "28/28 [==============================] - 12s 415ms/step - loss: 0.1227 - acc: 0.9607 - val_loss: 1.1334 - val_acc: 0.7551\n",
            "Epoch 43/100\n",
            "28/28 [==============================] - 12s 420ms/step - loss: 0.1123 - acc: 0.9607 - val_loss: 1.1149 - val_acc: 0.7959\n",
            "Epoch 44/100\n",
            "28/28 [==============================] - 11s 407ms/step - loss: 0.0797 - acc: 0.9786 - val_loss: 0.9630 - val_acc: 0.7959\n",
            "Epoch 45/100\n",
            "28/28 [==============================] - 11s 403ms/step - loss: 0.0816 - acc: 0.9714 - val_loss: 1.6064 - val_acc: 0.6939\n",
            "Epoch 46/100\n",
            "28/28 [==============================] - 11s 396ms/step - loss: 0.0846 - acc: 0.9591 - val_loss: 1.3613 - val_acc: 0.7755\n",
            "Epoch 47/100\n",
            "28/28 [==============================] - 11s 392ms/step - loss: 0.1203 - acc: 0.9571 - val_loss: 1.1583 - val_acc: 0.7551\n",
            "Epoch 48/100\n",
            "28/28 [==============================] - 11s 392ms/step - loss: 0.0798 - acc: 0.9678 - val_loss: 1.4392 - val_acc: 0.7347\n",
            "Epoch 49/100\n",
            "28/28 [==============================] - 11s 394ms/step - loss: 0.0836 - acc: 0.9714 - val_loss: 1.7915 - val_acc: 0.7347\n",
            "Epoch 50/100\n",
            "28/28 [==============================] - 11s 392ms/step - loss: 0.1252 - acc: 0.9571 - val_loss: 1.4908 - val_acc: 0.7551\n",
            "Epoch 51/100\n",
            "28/28 [==============================] - 11s 393ms/step - loss: 0.1009 - acc: 0.9519 - val_loss: 2.8613 - val_acc: 0.6327\n",
            "Epoch 52/100\n",
            "28/28 [==============================] - 11s 389ms/step - loss: 0.0859 - acc: 0.9750 - val_loss: 1.3512 - val_acc: 0.6939\n",
            "Epoch 53/100\n",
            "28/28 [==============================] - 11s 389ms/step - loss: 0.0871 - acc: 0.9714 - val_loss: 2.1982 - val_acc: 0.6327\n",
            "Epoch 54/100\n",
            "28/28 [==============================] - 11s 392ms/step - loss: 0.0872 - acc: 0.9627 - val_loss: 1.5404 - val_acc: 0.6735\n",
            "Epoch 55/100\n",
            "28/28 [==============================] - 11s 388ms/step - loss: 0.0862 - acc: 0.9678 - val_loss: 1.5281 - val_acc: 0.6735\n",
            "Epoch 56/100\n",
            "28/28 [==============================] - 11s 389ms/step - loss: 0.0872 - acc: 0.9535 - val_loss: 1.3401 - val_acc: 0.7347\n",
            "Epoch 57/100\n",
            "28/28 [==============================] - 11s 394ms/step - loss: 0.0680 - acc: 0.9750 - val_loss: 1.6953 - val_acc: 0.6939\n",
            "Epoch 58/100\n",
            "28/28 [==============================] - 11s 388ms/step - loss: 0.1112 - acc: 0.9607 - val_loss: 1.9882 - val_acc: 0.6939\n",
            "Epoch 59/100\n",
            "28/28 [==============================] - 11s 391ms/step - loss: 0.1033 - acc: 0.9571 - val_loss: 2.0649 - val_acc: 0.7143\n",
            "Epoch 60/100\n",
            "28/28 [==============================] - 11s 392ms/step - loss: 0.1149 - acc: 0.9535 - val_loss: 1.7623 - val_acc: 0.6939\n",
            "Epoch 61/100\n",
            "28/28 [==============================] - 11s 386ms/step - loss: 0.0949 - acc: 0.9714 - val_loss: 1.5162 - val_acc: 0.7143\n",
            "Epoch 62/100\n",
            "28/28 [==============================] - 11s 392ms/step - loss: 0.0775 - acc: 0.9643 - val_loss: 1.2146 - val_acc: 0.7959\n",
            "Epoch 63/100\n",
            "28/28 [==============================] - 11s 387ms/step - loss: 0.1032 - acc: 0.9464 - val_loss: 1.3899 - val_acc: 0.7347\n",
            "Epoch 64/100\n",
            "28/28 [==============================] - 11s 391ms/step - loss: 0.0829 - acc: 0.9678 - val_loss: 1.3449 - val_acc: 0.7551\n",
            "Epoch 65/100\n",
            "28/28 [==============================] - 11s 385ms/step - loss: 0.0937 - acc: 0.9607 - val_loss: 1.2097 - val_acc: 0.8163\n",
            "Epoch 66/100\n",
            "28/28 [==============================] - 11s 386ms/step - loss: 0.0930 - acc: 0.9571 - val_loss: 2.5861 - val_acc: 0.6327\n",
            "Epoch 67/100\n",
            "28/28 [==============================] - 11s 389ms/step - loss: 0.1115 - acc: 0.9448 - val_loss: 1.4346 - val_acc: 0.7551\n",
            "Epoch 68/100\n",
            "28/28 [==============================] - 11s 391ms/step - loss: 0.0701 - acc: 0.9786 - val_loss: 1.4803 - val_acc: 0.7551\n",
            "Epoch 69/100\n",
            "28/28 [==============================] - 11s 380ms/step - loss: 0.1086 - acc: 0.9500 - val_loss: 1.9519 - val_acc: 0.6939\n",
            "Epoch 70/100\n",
            "28/28 [==============================] - 11s 388ms/step - loss: 0.1032 - acc: 0.9643 - val_loss: 1.6834 - val_acc: 0.7143\n",
            "Epoch 71/100\n",
            "28/28 [==============================] - 11s 389ms/step - loss: 0.0580 - acc: 0.9678 - val_loss: 2.0968 - val_acc: 0.7143\n",
            "Epoch 72/100\n",
            "28/28 [==============================] - 11s 389ms/step - loss: 0.0485 - acc: 0.9786 - val_loss: 1.4815 - val_acc: 0.7755\n",
            "Epoch 73/100\n",
            "28/28 [==============================] - 11s 388ms/step - loss: 0.0798 - acc: 0.9714 - val_loss: 1.6324 - val_acc: 0.7755\n",
            "Epoch 74/100\n",
            "28/28 [==============================] - 11s 383ms/step - loss: 0.0564 - acc: 0.9786 - val_loss: 2.0072 - val_acc: 0.6939\n",
            "Epoch 75/100\n",
            "28/28 [==============================] - 11s 383ms/step - loss: 0.0675 - acc: 0.9643 - val_loss: 1.9889 - val_acc: 0.6939\n",
            "Epoch 76/100\n",
            "28/28 [==============================] - 11s 385ms/step - loss: 0.0836 - acc: 0.9643 - val_loss: 2.3016 - val_acc: 0.7347\n",
            "Epoch 77/100\n",
            "28/28 [==============================] - 11s 385ms/step - loss: 0.0702 - acc: 0.9643 - val_loss: 1.7615 - val_acc: 0.7347\n",
            "Epoch 78/100\n",
            "28/28 [==============================] - 11s 387ms/step - loss: 0.0960 - acc: 0.9678 - val_loss: 1.5702 - val_acc: 0.7755\n",
            "Epoch 79/100\n",
            "28/28 [==============================] - 11s 388ms/step - loss: 0.0849 - acc: 0.9571 - val_loss: 1.7388 - val_acc: 0.7143\n",
            "Epoch 80/100\n",
            "28/28 [==============================] - 11s 385ms/step - loss: 0.0570 - acc: 0.9750 - val_loss: 1.8728 - val_acc: 0.7347\n",
            "Epoch 81/100\n",
            "28/28 [==============================] - 11s 384ms/step - loss: 0.0795 - acc: 0.9607 - val_loss: 1.6784 - val_acc: 0.7347\n",
            "Epoch 82/100\n",
            "28/28 [==============================] - 11s 382ms/step - loss: 0.0914 - acc: 0.9607 - val_loss: 2.1938 - val_acc: 0.6939\n",
            "Epoch 83/100\n",
            "28/28 [==============================] - 11s 382ms/step - loss: 0.0874 - acc: 0.9555 - val_loss: 1.7374 - val_acc: 0.6939\n",
            "Epoch 84/100\n",
            "28/28 [==============================] - 11s 384ms/step - loss: 0.0584 - acc: 0.9714 - val_loss: 1.7796 - val_acc: 0.7551\n",
            "Epoch 85/100\n",
            "28/28 [==============================] - 11s 383ms/step - loss: 0.0781 - acc: 0.9643 - val_loss: 1.7330 - val_acc: 0.7347\n",
            "Epoch 86/100\n",
            "28/28 [==============================] - 11s 385ms/step - loss: 0.0736 - acc: 0.9714 - val_loss: 1.9916 - val_acc: 0.7143\n",
            "Epoch 87/100\n",
            "28/28 [==============================] - 11s 377ms/step - loss: 0.0552 - acc: 0.9750 - val_loss: 1.8236 - val_acc: 0.7347\n",
            "Epoch 88/100\n",
            "28/28 [==============================] - 11s 384ms/step - loss: 0.0755 - acc: 0.9678 - val_loss: 2.0617 - val_acc: 0.7347\n",
            "Epoch 89/100\n",
            "28/28 [==============================] - 11s 379ms/step - loss: 0.0739 - acc: 0.9627 - val_loss: 2.7229 - val_acc: 0.6122\n",
            "Epoch 90/100\n",
            "28/28 [==============================] - 11s 383ms/step - loss: 0.1116 - acc: 0.9571 - val_loss: 1.7923 - val_acc: 0.7755\n",
            "Epoch 91/100\n",
            "28/28 [==============================] - 11s 381ms/step - loss: 0.0961 - acc: 0.9607 - val_loss: 2.3292 - val_acc: 0.6939\n",
            "Epoch 92/100\n",
            "28/28 [==============================] - 11s 381ms/step - loss: 0.0753 - acc: 0.9750 - val_loss: 1.9890 - val_acc: 0.7347\n",
            "Epoch 93/100\n",
            "28/28 [==============================] - 11s 381ms/step - loss: 0.0531 - acc: 0.9678 - val_loss: 1.9633 - val_acc: 0.7551\n",
            "Epoch 94/100\n",
            "28/28 [==============================] - 11s 383ms/step - loss: 0.0689 - acc: 0.9750 - val_loss: 1.7996 - val_acc: 0.7551\n",
            "Epoch 95/100\n",
            "28/28 [==============================] - 11s 380ms/step - loss: 0.0611 - acc: 0.9750 - val_loss: 2.5372 - val_acc: 0.6735\n",
            "Epoch 96/100\n",
            "28/28 [==============================] - 11s 379ms/step - loss: 0.0943 - acc: 0.9627 - val_loss: 2.0296 - val_acc: 0.6939\n",
            "Epoch 97/100\n",
            "28/28 [==============================] - 11s 379ms/step - loss: 0.0609 - acc: 0.9750 - val_loss: 1.9273 - val_acc: 0.7551\n",
            "Epoch 98/100\n",
            "28/28 [==============================] - 11s 383ms/step - loss: 0.0691 - acc: 0.9643 - val_loss: 1.8258 - val_acc: 0.7551\n",
            "Epoch 99/100\n",
            "28/28 [==============================] - 11s 382ms/step - loss: 0.0905 - acc: 0.9643 - val_loss: 1.9269 - val_acc: 0.7347\n",
            "Epoch 100/100\n",
            "28/28 [==============================] - 11s 383ms/step - loss: 0.0610 - acc: 0.9750 - val_loss: 1.5939 - val_acc: 0.7347\n"
          ],
          "name": "stdout"
        }
      ]
    },
    {
      "cell_type": "code",
      "metadata": {
        "id": "uUskj-EErUdi",
        "colab_type": "code",
        "colab": {}
      },
      "source": [
        "from keras.models import load_model\n",
        "\n",
        "additional_model.save('model.h5')\n",
        "additional_model.save_weights(\"model.h5\")\n",
        "\n",
        "model_json = additional_model.to_json()\n",
        "with open(\"model.json\", \"w\") as json_file : \n",
        "    json_file.write(model_json)"
      ],
      "execution_count": 0,
      "outputs": []
    },
    {
      "cell_type": "code",
      "metadata": {
        "id": "JH1pGY8ChXVr",
        "colab_type": "code",
        "colab": {
          "base_uri": "https://localhost:8080/",
          "height": 53
        },
        "outputId": "0ea359b0-b49f-4df9-9cd3-545baacca2bc"
      },
      "source": [
        "print(\"-- Evaluate --\")\n",
        "scores = additional_model.evaluate_generator(test_generator, steps=5)\n",
        "print(\"%s: %.2f%%\" %(additional_model.metrics_names[1], scores[1]*100))"
      ],
      "execution_count": 68,
      "outputs": [
        {
          "output_type": "stream",
          "text": [
            "-- Evaluate --\n",
            "acc: 91.30%\n"
          ],
          "name": "stdout"
        }
      ]
    },
    {
      "cell_type": "code",
      "metadata": {
        "id": "_LHHUFayN8Gm",
        "colab_type": "code",
        "colab": {}
      },
      "source": [
        ""
      ],
      "execution_count": 0,
      "outputs": []
    },
    {
      "cell_type": "code",
      "metadata": {
        "id": "_kTEY3WPWt0P",
        "colab_type": "code",
        "colab": {}
      },
      "source": [
        ""
      ],
      "execution_count": 0,
      "outputs": []
    },
    {
      "cell_type": "code",
      "metadata": {
        "id": "Kk3iqalJZuWY",
        "colab_type": "code",
        "colab": {}
      },
      "source": [
        ""
      ],
      "execution_count": 0,
      "outputs": []
    }
  ]
}