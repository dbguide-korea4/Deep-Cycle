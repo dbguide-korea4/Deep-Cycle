{
 "cells": [
  {
   "cell_type": "code",
   "execution_count": null,
   "metadata": {},
   "outputs": [],
   "source": [
    "from google.colab import drive\n",
    "drive.mount('/drive/')"
   ]
  },
  {
   "cell_type": "code",
   "execution_count": null,
   "metadata": {},
   "outputs": [],
   "source": [
    "# !apt-get update\n",
    "# !apt-get install g++ openjdk-8-jdk"
   ]
  },
  {
   "cell_type": "code",
   "execution_count": null,
   "metadata": {},
   "outputs": [],
   "source": [
    "trans=transforms.Compose([transforms.Resize((100,100)), \n",
    "                          transforms.ToTensor(),\n",
    "                          transforms.Normalize((0.5,0.5,0.5),(0.5,0.5,0.5))])\n",
    "trainset=torchvision.datasets.ImageFolder(root='/drive/My Drive/Colab Notebooks/trainingSample',transform=trans)"
   ]
  },
  {
   "cell_type": "code",
   "execution_count": null,
   "metadata": {},
   "outputs": [],
   "source": [
    "trainloader = DataLoader(trainset,batch_size=8,shuffle=False,num_workers=2)"
   ]
  },
  {
   "cell_type": "code",
   "execution_count": null,
   "metadata": {},
   "outputs": [],
   "source": [
    "def imshow(img):\n",
    "    img = img / 2 + 0.5\n",
    "    np_img = img.numpy() \n",
    "    plt.imshow(np.transpose(np_img, (1, 2, 0)))\n",
    "  \n",
    "    print(np_img.shape)\n",
    "    print((np.transpose(np_img, (1, 2, 0))).shape) "
   ]
  },
  {
   "cell_type": "code",
   "execution_count": null,
   "metadata": {},
   "outputs": [],
   "source": [
    "print(images.shape)\n",
    "imshow(torchvision.utils.make_grid(images,nrow=4))\n",
    "print(images.shape)\n",
    "print((torchvision.utils.make_grid(images)).shape)\n",
    "print(''.join('%5s ' % classes[labels[j]] for j in range(8)))"
   ]
  },
  {
   "cell_type": "code",
   "execution_count": null,
   "metadata": {},
   "outputs": [],
   "source": []
  }
 ],
 "metadata": {
  "kernelspec": {
   "display_name": "Python 3",
   "language": "python",
   "name": "python3"
  },
  "language_info": {
   "codemirror_mode": {
    "name": "ipython",
    "version": 3
   },
   "file_extension": ".py",
   "mimetype": "text/x-python",
   "name": "python",
   "nbconvert_exporter": "python",
   "pygments_lexer": "ipython3",
   "version": "3.7.3"
  }
 },
 "nbformat": 4,
 "nbformat_minor": 2
}
