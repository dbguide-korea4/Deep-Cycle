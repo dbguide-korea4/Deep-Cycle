{
 "cells": [
  {
   "cell_type": "code",
   "execution_count": 95,
   "metadata": {},
   "outputs": [],
   "source": [
    "# 필요한 모듈 불러오기\n",
    "import imageio\n",
    "import imgaug as ia\n",
    "import numpy as np\n",
    "import os\n",
    "import json\n",
    "from imgaug.augmentables.polys import Polygon, PolygonsOnImage\n",
    "import imgaug.augmenters as iaa\n",
    "import copy\n",
    "%matplotlib inline"
   ]
  },
  {
   "cell_type": "code",
   "execution_count": 96,
   "metadata": {},
   "outputs": [
    {
     "data": {
      "text/plain": [
       "'C:\\\\Users\\\\huijeong\\\\Desktop\\\\imgaug\\\\MyTest'"
      ]
     },
     "execution_count": 96,
     "metadata": {},
     "output_type": "execute_result"
    }
   ],
   "source": [
    "# 절대경로 설정 (현재 ipynb파일이 있는 경로)\n",
    "path_dir = os.path.abspath(\"./\")\n",
    "path_dir"
   ]
  },
  {
   "cell_type": "code",
   "execution_count": 97,
   "metadata": {},
   "outputs": [
    {
     "data": {
      "text/plain": [
       "('C:\\\\Users\\\\huijeong\\\\Desktop\\\\imgaug\\\\MyTest/images/',\n",
       " 'C:\\\\Users\\\\huijeong\\\\Desktop\\\\imgaug\\\\MyTest/flip_images/')"
      ]
     },
     "execution_count": 97,
     "metadata": {},
     "output_type": "execute_result"
    }
   ],
   "source": [
    "# images, flip_images폴더 경로 설정\n",
    "path_images = path_dir + \"/images/\"\n",
    "path_flip_images = path_dir + \"/flip_images/\"\n",
    "\n",
    "path_images, path_flip_images"
   ]
  },
  {
   "cell_type": "code",
   "execution_count": 121,
   "metadata": {},
   "outputs": [
    {
     "data": {
      "text/plain": [
       "1261"
      ]
     },
     "execution_count": 121,
     "metadata": {},
     "output_type": "execute_result"
    }
   ],
   "source": [
    "# json 파일 불러오기\n",
    "with open(path_images+\"via_region_data.json\", \"r\", encoding='utf-8') as f:\n",
    "    content = json.load(f)\n",
    "\n",
    "# print(content, sep='')\n",
    "len(content)"
   ]
  },
  {
   "cell_type": "code",
   "execution_count": 122,
   "metadata": {},
   "outputs": [
    {
     "data": {
      "text/plain": [
       "1262"
      ]
     },
     "execution_count": 122,
     "metadata": {},
     "output_type": "execute_result"
    }
   ],
   "source": [
    "# images폴더에 있는 파일 모두 보기\n",
    "files = os.listdir(path_images)\n",
    "len(files)"
   ]
  },
  {
   "cell_type": "code",
   "execution_count": 123,
   "metadata": {},
   "outputs": [
    {
     "data": {
      "text/plain": [
       "1261"
      ]
     },
     "execution_count": 123,
     "metadata": {},
     "output_type": "execute_result"
    }
   ],
   "source": [
    "# 이미지(jpg, png, jpeg, gif)만 보기\n",
    "imgFiles = [_ for _ in files if _.split(\".\")[-1].lower() in ['jpg', 'png', 'jpeg']] # \n",
    "len(imgFiles)"
   ]
  },
  {
   "cell_type": "code",
   "execution_count": 132,
   "metadata": {},
   "outputs": [
    {
     "ename": "IndexError",
     "evalue": "too many indices for array",
     "output_type": "error",
     "traceback": [
      "\u001b[1;31m---------------------------------------------------------------------------\u001b[0m",
      "\u001b[1;31mIndexError\u001b[0m                                Traceback (most recent call last)",
      "\u001b[1;32m<ipython-input-132-894c7f75274e>\u001b[0m in \u001b[0;36m<module>\u001b[1;34m\u001b[0m\n\u001b[0;32m     23\u001b[0m         \u001b[1;32mif\u001b[0m \u001b[0mi\u001b[0m \u001b[1;33m==\u001b[0m \u001b[1;36m0\u001b[0m\u001b[1;33m:\u001b[0m\u001b[1;33m\u001b[0m\u001b[1;33m\u001b[0m\u001b[0m\n\u001b[0;32m     24\u001b[0m \u001b[1;31m#             try:\u001b[0m\u001b[1;33m\u001b[0m\u001b[1;33m\u001b[0m\u001b[1;33m\u001b[0m\u001b[0m\n\u001b[1;32m---> 25\u001b[1;33m             \u001b[0mimageio\u001b[0m\u001b[1;33m.\u001b[0m\u001b[0mimwrite\u001b[0m\u001b[1;33m(\u001b[0m\u001b[0mpath_flip_images\u001b[0m\u001b[1;33m+\u001b[0m\u001b[1;34mf'flip_{imgName}'\u001b[0m\u001b[1;33m,\u001b[0m \u001b[0mimage_flip\u001b[0m\u001b[1;33m[\u001b[0m\u001b[1;33m:\u001b[0m\u001b[1;33m,\u001b[0m \u001b[1;33m:\u001b[0m\u001b[1;33m,\u001b[0m \u001b[1;33m:\u001b[0m\u001b[1;36m3\u001b[0m\u001b[1;33m]\u001b[0m\u001b[1;33m)\u001b[0m \u001b[1;31m# Flip된 이미지를 다운받습니다.\u001b[0m\u001b[1;33m\u001b[0m\u001b[1;33m\u001b[0m\u001b[0m\n\u001b[0m\u001b[0;32m     26\u001b[0m \u001b[1;31m#             except IndexError as e:\u001b[0m\u001b[1;33m\u001b[0m\u001b[1;33m\u001b[0m\u001b[1;33m\u001b[0m\u001b[0m\n\u001b[0;32m     27\u001b[0m \u001b[1;31m#                 print(e, imgName)\u001b[0m\u001b[1;33m\u001b[0m\u001b[1;33m\u001b[0m\u001b[1;33m\u001b[0m\u001b[0m\n",
      "\u001b[1;31mIndexError\u001b[0m: too many indices for array"
     ]
    }
   ],
   "source": [
    "flipFunc = iaa.Fliplr(1.0) # 100% Flip시켜주는 인스턴스\n",
    "content_flip = copy.deepcopy(content) # Flip된 이미지의 json파일을 만들어주기 위해 기존 content를 복사합니다.\n",
    "\n",
    "# 이미지 개수만큼 반복\n",
    "for imgName in imgFiles:\n",
    "    image = imageio.imread(path_images+imgName) # 이미지\n",
    "    imgSize = str(os.path.getsize(path_images+imgName)) # 파일 용량\n",
    "    annotation = len(content_flip[imgName+imgSize]['regions']) # Annotation 개수\n",
    "    \n",
    "    # Annotation 개수만큼 반복\n",
    "    for i in range(annotation):\n",
    "        location = content_flip[imgName+imgSize]['regions'][str(i)]['shape_attributes'] # 기존 json파일에서 x, y좌표가 있는 경로\n",
    "        x = location['all_points_x'] # x 좌표모음\n",
    "        y = location['all_points_y'] # y 좌표모음\n",
    "        point = [_ for _ in zip(x, y)] # (x, y)좌표모음\n",
    "        point = Polygon(point) # (x, y)좌표를 Segmentation으로 만들기 위해 Polygon type으로 바꿔줍니다.\n",
    "        # 원본 이미지와 크기가 같은 빈 이미지에 point만 찍어놓습니다. => Segmentation만 형성됩니다.\n",
    "        segmentation = ia.PolygonsOnImage([point], shape=image.shape)\n",
    "        # 원본 이미지+Segmentation을 Flip합니다. => Flip된 이미지, Flip된 point(좌표)가 나옵니다.\n",
    "        image_flip, point_flip = flipFunc(image=image, polygons=segmentation)\n",
    "        \n",
    "        # Annotation 개수에 상관없이 1번만 실행되는 구문입니다.\n",
    "        if i == 0:\n",
    "#             try:\n",
    "            imageio.imwrite(path_flip_images+f'flip_{imgName}', image_flip[:, :, :3]) # Flip된 이미지를 다운받습니다.\n",
    "#             except IndexError as e:\n",
    "#                 print(e, imgName)\n",
    "#                 continue\n",
    "                \n",
    "            imgSize_flip = os.path.getsize(path_flip_images+f'flip_{imgName}') # Flip된 이미지 파일 용량\n",
    "        \n",
    "        ################# content_flip의 x, y좌표를 바꿔줍니다. #################\n",
    "        x_flip = point_flip.polygons[0].xx_int.tolist() # Flip된 point의 x좌표모음을 Polygon type에서 list type으로 바꿔줍니다.\n",
    "        y_flip = point_flip.polygons[0].yy_int.tolist() # Flip된 point의 y좌표모음을 Polygon type에서 list type으로 바꿔줍니다.\n",
    "        location['all_points_x'] = x_flip # Flip된 x좌표로 바꿔줍니다.\n",
    "        location['all_points_y'] = y_flip # Flip된 y좌표로 바꿔줍니다.\n",
    "        \n",
    "    # 모든 Annotation의 좌표를 잘 바꿔줬다면 실행되는 구문입니다.\n",
    "    else:\n",
    "        ################# content_flip의 size, filename, key를 바꿔줍니다. #################\n",
    "        content_flip[imgName+imgSize]['size'] = imgSize_flip # size를 바꿔줍니다. \n",
    "        content_flip[imgName+imgSize]['filename'] = f'flip_{imgName}' # filename을 바꿔줍니다.\n",
    "        content_flip[f'flip_{imgName}{imgSize_flip}'] = content_flip.pop(imgName+imgSize) # key를 바꿔줍니다.\n",
    "\n",
    "# 모든 이미지, Annotation이 Flip되어 저장되었고, Flip된 이미지를 반영하는 json파일(content_flip)이 완성되었습니다.\n",
    "else:\n",
    "    print(\"Happy New Year!\") # 해피뉴이어!\n",
    "    print('Flip된 이미지:', len(os.listdir(path_images))-1, '중', len(os.listdir(path_flip_images))-1, '개')\n",
    "        \n",
    "# 수정이 완료된 content_flip을 기존 content와 합쳐줍니다.\n",
    "content.update(content_flip)\n",
    "\n",
    "# 합본 json파일을 저장합니다.\n",
    "with open(path_dir+'/flip_images/flip_via_region_data.json', 'w', encoding='utf-8') as f:\n",
    "    json.dump(content, f)"
   ]
  }
 ],
 "metadata": {
  "kernelspec": {
   "display_name": "Python 3",
   "language": "python",
   "name": "python3"
  },
  "language_info": {
   "codemirror_mode": {
    "name": "ipython",
    "version": 3
   },
   "file_extension": ".py",
   "mimetype": "text/x-python",
   "name": "python",
   "nbconvert_exporter": "python",
   "pygments_lexer": "ipython3",
   "version": "3.7.4"
  }
 },
 "nbformat": 4,
 "nbformat_minor": 2
}
