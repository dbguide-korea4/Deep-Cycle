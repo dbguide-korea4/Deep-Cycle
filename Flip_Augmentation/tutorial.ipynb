{
 "cells": [
  {
   "cell_type": "code",
   "execution_count": 1,
   "metadata": {},
   "outputs": [],
   "source": [
    "from augmentation import ImgAgmet"
   ]
  },
  {
   "cell_type": "code",
   "execution_count": 2,
   "metadata": {},
   "outputs": [],
   "source": [
    "aug = ImgAgmet()"
   ]
  },
  {
   "cell_type": "code",
   "execution_count": 3,
   "metadata": {},
   "outputs": [
    {
     "name": "stdout",
     "output_type": "stream",
     "text": [
      "total: 1261/1262  content: 1261\n",
      "\n",
      "Percent: [-------------------------->                       ] 53%  Time: 02:09\n",
      " reprocess: img2019-08-19_000339_페트병91.jpeg (600, 600) \n",
      "\n",
      "Percent: [------------------------------>                   ] 62%  Time: 02:25\n",
      " reprocess: img2019-08-19_000739_페트병583.jpeg (600, 600) \n",
      "\n",
      "Percent: [------------------------------------------------->] 100%  Time: 03:14\n",
      "\n",
      "Happy New Year!\n",
      "Flip된 이미지: 1261 중 1261 개\n"
     ]
    }
   ],
   "source": [
    "aug.flip()"
   ]
  },
  {
   "cell_type": "code",
   "execution_count": null,
   "metadata": {},
   "outputs": [],
   "source": []
  }
 ],
 "metadata": {
  "kernelspec": {
   "display_name": "Python 3",
   "language": "python",
   "name": "python3"
  },
  "language_info": {
   "codemirror_mode": {
    "name": "ipython",
    "version": 3
   },
   "file_extension": ".py",
   "mimetype": "text/x-python",
   "name": "python",
   "nbconvert_exporter": "python",
   "pygments_lexer": "ipython3",
   "version": "3.7.3"
  }
 },
 "nbformat": 4,
 "nbformat_minor": 2
}
