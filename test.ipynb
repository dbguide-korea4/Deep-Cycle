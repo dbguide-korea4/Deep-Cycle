{
 "cells": [
  {
   "cell_type": "code",
   "execution_count": 1,
   "metadata": {},
   "outputs": [],
   "source": [
    "from DpCycle.searchData import searchSE\n",
    "from DpCycle import imgToArr"
   ]
  },
  {
   "cell_type": "code",
   "execution_count": 2,
   "metadata": {},
   "outputs": [],
   "source": [
    "search = searchSE.SearchImgSE('재활용')"
   ]
  },
  {
   "cell_type": "code",
   "execution_count": 3,
   "metadata": {},
   "outputs": [
    {
     "name": "stdout",
     "output_type": "stream",
     "text": [
      "success: img2019-08-04_014104_재활용0.png\n",
      "success: img2019-08-04_014105_재활용1.jpeg\n",
      "success: img2019-08-04_014105_재활용2.jpeg\n",
      "success: img2019-08-04_014105_재활용3.jpeg\n",
      "success: img2019-08-04_014105_재활용4.jpeg\n",
      "\n",
      "download: 5 files safely done\n"
     ]
    }
   ],
   "source": [
    "search.naver_imgs_se(5)"
   ]
  },
  {
   "cell_type": "code",
   "execution_count": 4,
   "metadata": {},
   "outputs": [
    {
     "data": {
      "text/plain": [
       "['./imgs/img2019-08-04_013912_재활용0.png',\n",
       " './imgs/img2019-08-04_013913_재활용1.jpeg',\n",
       " './imgs/img2019-08-04_013913_재활용2.jpeg',\n",
       " './imgs/img2019-08-04_013913_재활용3.jpeg',\n",
       " './imgs/img2019-08-04_013913_재활용4.jpeg',\n",
       " './imgs/img2019-08-04_014104_재활용0.png',\n",
       " './imgs/img2019-08-04_014105_재활용1.jpeg',\n",
       " './imgs/img2019-08-04_014105_재활용2.jpeg',\n",
       " './imgs/img2019-08-04_014105_재활용3.jpeg',\n",
       " './imgs/img2019-08-04_014105_재활용4.jpeg']"
      ]
     },
     "execution_count": 4,
     "metadata": {},
     "output_type": "execute_result"
    }
   ],
   "source": [
    "import os\n",
    "file_list = [f'{path}/{file}' for path, _, files in os.walk('./imgs') for file in files]\n",
    "file_list"
   ]
  },
  {
   "cell_type": "code",
   "execution_count": 5,
   "metadata": {},
   "outputs": [
    {
     "name": "stdout",
     "output_type": "stream",
     "text": [
      "<class 'numpy.ndarray'>  shape: (494, 740, 4)\n",
      "<class 'numpy.ndarray'>  shape: (389, 400, 3)\n",
      "<class 'numpy.ndarray'>  shape: (218, 231, 3)\n",
      "<class 'numpy.ndarray'>  shape: (269, 282, 3)\n",
      "<class 'numpy.ndarray'>  shape: (379, 480, 3)\n",
      "<class 'numpy.ndarray'>  shape: (494, 740, 4)\n",
      "<class 'numpy.ndarray'>  shape: (389, 400, 3)\n",
      "<class 'numpy.ndarray'>  shape: (218, 231, 3)\n",
      "<class 'numpy.ndarray'>  shape: (269, 282, 3)\n",
      "<class 'numpy.ndarray'>  shape: (379, 480, 3)\n"
     ]
    }
   ],
   "source": [
    "for f in file_list:\n",
    "    arr = imgToArr.path_to_array(f)\n",
    "    print(f'{type(arr)}  shape: {arr.shape}')"
   ]
  },
  {
   "cell_type": "code",
   "execution_count": null,
   "metadata": {},
   "outputs": [],
   "source": []
  }
 ],
 "metadata": {
  "kernelspec": {
   "display_name": "Python 3",
   "language": "python",
   "name": "python3"
  },
  "language_info": {
   "codemirror_mode": {
    "name": "ipython",
    "version": 3
   },
   "file_extension": ".py",
   "mimetype": "text/x-python",
   "name": "python",
   "nbconvert_exporter": "python",
   "pygments_lexer": "ipython3",
   "version": "3.7.3"
  }
 },
 "nbformat": 4,
 "nbformat_minor": 2
}
