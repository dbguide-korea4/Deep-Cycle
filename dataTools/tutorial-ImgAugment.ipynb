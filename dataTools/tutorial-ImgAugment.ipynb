{
 "cells": [
  {
   "cell_type": "code",
   "execution_count": 4,
   "metadata": {},
   "outputs": [],
   "source": [
    "from augmentation.imageAugment import ImgAugment"
   ]
  },
  {
   "cell_type": "code",
   "execution_count": 5,
   "metadata": {},
   "outputs": [],
   "source": [
    "aug = ImgAugment('./samples/images')"
   ]
  },
  {
   "cell_type": "code",
   "execution_count": 3,
   "metadata": {},
   "outputs": [
    {
     "name": "stdout",
     "output_type": "stream",
     "text": [
      "total: 2  content: 2\n",
      "\n",
      "Percent: [------------------------------------------------->] 100%  Time: 00:00\n",
      "\n",
      "Happy New Year!\n",
      "Flip된 이미지: 2 중 2 개\n"
     ]
    }
   ],
   "source": [
    "aug.flip() # 좌우반전"
   ]
  },
  {
   "cell_type": "code",
   "execution_count": 4,
   "metadata": {},
   "outputs": [
    {
     "name": "stdout",
     "output_type": "stream",
     "text": [
      "total: 2  content: 2\n",
      "\n",
      "Percent: [------------------------------------------------->] 100%  Time: 00:00\n",
      "\n",
      "Happy New Year!\n",
      "Grayscale된 이미지: 2 중 2 개\n"
     ]
    }
   ],
   "source": [
    "aug.gray_scale()"
   ]
  },
  {
   "cell_type": "code",
   "execution_count": 6,
   "metadata": {},
   "outputs": [
    {
     "name": "stdout",
     "output_type": "stream",
     "text": [
      "total: 2  content: 2\n",
      "\n",
      "Percent: [------------------------------------------------->] 100%  Time: 00:00\n",
      "\n",
      "Happy New Year!\n",
      "rotate된 이미지: 2 중 2 개\n"
     ]
    }
   ],
   "source": [
    "aug.rotate() # default: 45도"
   ]
  },
  {
   "cell_type": "code",
   "execution_count": 7,
   "metadata": {},
   "outputs": [
    {
     "name": "stdout",
     "output_type": "stream",
     "text": [
      "total: 2  content: 2\n",
      "\n",
      "Percent: [------------------------------------------------->] 100%  Time: 00:00\n",
      "\n",
      "Happy New Year!\n",
      "rotate된 이미지: 2 중 2 개\n"
     ]
    }
   ],
   "source": [
    "aug.rotate(90) # 90도 회전"
   ]
  }
 ],
 "metadata": {
  "kernelspec": {
   "display_name": "Python 3",
   "language": "python",
   "name": "python3"
  },
  "language_info": {
   "codemirror_mode": {
    "name": "ipython",
    "version": 3
   },
   "file_extension": ".py",
   "mimetype": "text/x-python",
   "name": "python",
   "nbconvert_exporter": "python",
   "pygments_lexer": "ipython3",
   "version": "3.7.4"
  }
 },
 "nbformat": 4,
 "nbformat_minor": 2
}
