{
 "cells": [
  {
   "cell_type": "code",
   "execution_count": 2,
   "metadata": {},
   "outputs": [],
   "source": [
    "# 필요한 모듈 불러오기\n",
    "import imageio\n",
    "import imgaug as ia\n",
    "import numpy as np\n",
    "import os\n",
    "import json\n",
    "from imgaug.augmentables.polys import Polygon, PolygonsOnImage\n",
    "import imgaug.augmenters as iaa\n",
    "import copy\n",
    "%matplotlib inline"
   ]
  },
  {
   "cell_type": "code",
   "execution_count": 24,
   "metadata": {},
   "outputs": [
    {
     "data": {
      "text/plain": [
       "'C:\\\\Users\\\\huijeong\\\\Desktop\\\\imgaug\\\\Flip_Augmentation'"
      ]
     },
     "execution_count": 24,
     "metadata": {},
     "output_type": "execute_result"
    }
   ],
   "source": [
    "# 절대경로 설정 (현재 ipynb파일이 있는 경로)\n",
    "path_dir = os.path.abspath('.')\n",
    "path_dir"
   ]
  },
  {
   "cell_type": "code",
   "execution_count": 9,
   "metadata": {},
   "outputs": [
    {
     "data": {
      "text/plain": [
       "('C:\\\\Users\\\\huijeong\\\\Desktop\\\\imgaug\\\\Flip_Augmentation\\\\images',\n",
       " 'C:\\\\Users\\\\huijeong\\\\Desktop\\\\imgaug\\\\Flip_Augmentation\\\\flip_images')"
      ]
     },
     "execution_count": 9,
     "metadata": {},
     "output_type": "execute_result"
    }
   ],
   "source": [
    "# images, flip_images폴더 경로 설정\n",
    "path_images = os.path.join(path_dir, \"images\")\n",
    "path_flip_images = os.path.join(path_dir, \"flip_images\")\n",
    "\n",
    "path_images, path_flip_images"
   ]
  },
  {
   "cell_type": "code",
   "execution_count": 10,
   "metadata": {},
   "outputs": [
    {
     "data": {
      "text/plain": [
       "1261"
      ]
     },
     "execution_count": 10,
     "metadata": {},
     "output_type": "execute_result"
    }
   ],
   "source": [
    "# json 파일 불러오기\n",
    "with open(os.path.join(path_images, \"via_region_data.json\"), \"r\", encoding='utf-8') as f:\n",
    "    content = json.load(f)\n",
    "\n",
    "# print(content, sep='')\n",
    "len(content)"
   ]
  },
  {
   "cell_type": "code",
   "execution_count": 13,
   "metadata": {},
   "outputs": [
    {
     "data": {
      "text/plain": [
       "1262"
      ]
     },
     "execution_count": 13,
     "metadata": {},
     "output_type": "execute_result"
    }
   ],
   "source": [
    "# images폴더에 있는 파일 모두 보기\n",
    "files = os.listdir(path_images)\n",
    "len(files)"
   ]
  },
  {
   "cell_type": "code",
   "execution_count": 14,
   "metadata": {},
   "outputs": [
    {
     "data": {
      "text/plain": [
       "1261"
      ]
     },
     "execution_count": 14,
     "metadata": {},
     "output_type": "execute_result"
    }
   ],
   "source": [
    "# 이미지(jpg, png, jpeg)만 보기\n",
    "imgFiles = [_ for _ in files if _.split(\".\")[-1].lower() in ['jpg', 'png', 'jpeg']]\n",
    "len(imgFiles)"
   ]
  },
  {
   "cell_type": "code",
   "execution_count": 56,
   "metadata": {},
   "outputs": [
    {
     "data": {
      "text/plain": [
       "156"
      ]
     },
     "execution_count": 56,
     "metadata": {},
     "output_type": "execute_result"
    }
   ],
   "source": [
    "# # 디버깅할 이미지만 보기\n",
    "# imgFiles = [_ for _ in files if _.startswith('img2019-08-19_000')]\n",
    "# len(imgFiles)"
   ]
  },
  {
   "cell_type": "markdown",
   "metadata": {},
   "source": [
    "# 좌우반전"
   ]
  },
  {
   "cell_type": "code",
   "execution_count": 64,
   "metadata": {},
   "outputs": [
    {
     "name": "stdout",
     "output_type": "stream",
     "text": [
      "img2019-08-19_000339_페트병91.jpeg (600, 600) Shape가 2차원입니다.\n",
      "3차원으로 수정 후 저장합니다. (600, 600, 1)\n",
      "img2019-08-19_000739_페트병583.jpeg (600, 600) Shape가 2차원입니다.\n",
      "3차원으로 수정 후 저장합니다. (600, 600, 1)\n",
      "Happy New Year!\n",
      "Flip된 이미지: 156 중 156 개\n"
     ]
    }
   ],
   "source": [
    "aug = iaa.Fliplr(1.0) # 100% Flip시켜주는 인스턴스\n",
    "content_flip = copy.deepcopy(content) # Flip된 이미지의 json파일을 만들어주기 위해 기존 content를 복사합니다.\n",
    "\n",
    "# 이미지 개수만큼 반복\n",
    "for imgName in imgFiles:\n",
    "    image = imageio.imread(os.path.join(path_images, imgName)) # 이미지\n",
    "    imgSize = str(os.path.getsize(os.path.join(path_images, imgName))) # 파일 용량\n",
    "    annotation = len(content_flip[imgName+imgSize]['regions']) # Annotation 개수\n",
    "    \n",
    "    # Annotation 개수만큼 반복\n",
    "    for i in range(annotation):\n",
    "        location = content_flip[imgName+imgSize]['regions'][str(i)]['shape_attributes'] # 기존 json파일에서 x, y좌표가 있는 경로\n",
    "        x = location['all_points_x'] # x 좌표모음\n",
    "        y = location['all_points_y'] # y 좌표모음\n",
    "        point = [_ for _ in zip(x, y)] # (x, y)좌표모음\n",
    "        point = Polygon(point) # (x, y)좌표를 Segmentation으로 만들기 위해 Polygon type으로 바꿔줍니다.\n",
    "        # 원본 이미지와 크기가 같은 빈 이미지에 point만 찍어놓습니다. => Segmentation만 형성됩니다.\n",
    "        segmentation = PolygonsOnImage([point], shape=image.shape)\n",
    "        # 원본 이미지+Segmentation을 Flip합니다. => Flip된 이미지, Flip된 point(좌표)가 나옵니다.\n",
    "        image_flip, point_flip = aug(image=image, polygons=segmentation)\n",
    "        \n",
    "        # Annotation 개수에 상관없이 1번만 실행되는 구문입니다.\n",
    "        if i == 0:\n",
    "            while True:\n",
    "                try:\n",
    "                    imageio.imwrite(os.path.join(path_flip_images, f'flip_{imgName}'), image_flip[:, :, :3]) # Flip된 이미지를 다운받습니다.\n",
    "                except IndexError as e:\n",
    "                    print(imgName, image_flip.shape, 'Shape가 2차원입니다.')\n",
    "                    image_flip = np.expand_dims(image_flip, axis=2)\n",
    "                    print('3차원으로 수정 후 저장합니다.', image_flip.shape)\n",
    "                    continue\n",
    "                break\n",
    "                \n",
    "            imgSize_flip = os.path.getsize(os.path.join(path_flip_images, f'flip_{imgName}')) # Flip된 이미지 파일 용량\n",
    "        \n",
    "        ################# content_flip의 x, y좌표를 바꿔줍니다. #################\n",
    "        x_flip = point_flip.polygons[0].xx_int.tolist() # Flip된 point의 x좌표모음을 Polygon type에서 list type으로 바꿔줍니다.\n",
    "        y_flip = point_flip.polygons[0].yy_int.tolist() # Flip된 point의 y좌표모음을 Polygon type에서 list type으로 바꿔줍니다.\n",
    "        location['all_points_x'] = x_flip # Flip된 x좌표로 바꿔줍니다.\n",
    "        location['all_points_y'] = y_flip # Flip된 y좌표로 바꿔줍니다.\n",
    "        \n",
    "    # 모든 Annotation의 좌표를 잘 바꿔줬다면 실행되는 구문입니다.\n",
    "    else:\n",
    "        ################# content_flip의 size, filename, key를 바꿔줍니다. #################\n",
    "        content_flip[imgName+imgSize]['size'] = imgSize_flip # size를 바꿔줍니다. \n",
    "        content_flip[imgName+imgSize]['filename'] = f'flip_{imgName}' # filename을 바꿔줍니다.\n",
    "        content_flip[f'flip_{imgName}{imgSize_flip}'] = content_flip.pop(imgName+imgSize) # key를 바꿔줍니다.\n",
    "\n",
    "# 모든 이미지, Annotation이 Flip되어 저장되었고, Flip된 이미지를 반영하는 json파일(content_flip)이 완성되었습니다.\n",
    "else:\n",
    "    print(\"Happy New Year!\") # 해피뉴이어!\n",
    "    print('Flip된 이미지:', len(imgFiles), '중', len(os.listdir(path_flip_images))-1, '개')\n",
    "        \n",
    "# 수정이 완료된 content_flip을 기존 content와 합쳐줍니다.\n",
    "content.update(content_flip)\n",
    "\n",
    "# 합본 json파일을 저장합니다.\n",
    "with open(os.path.join(path_flip_images, 'flip_via_region_data.json'), 'w', encoding='utf-8') as f:\n",
    "    json.dump(content, f)"
   ]
  },
  {
   "cell_type": "markdown",
   "metadata": {},
   "source": [
    "# 그레이스케일"
   ]
  },
  {
   "cell_type": "code",
   "execution_count": 101,
   "metadata": {},
   "outputs": [
    {
     "data": {
      "text/plain": [
       "('C:\\\\Users\\\\huijeong\\\\Desktop\\\\imgaug\\\\Flip_Augmentation\\\\images',\n",
       " 'C:\\\\Users\\\\huijeong\\\\Desktop\\\\imgaug\\\\Flip_Augmentation\\\\gray_images')"
      ]
     },
     "execution_count": 101,
     "metadata": {},
     "output_type": "execute_result"
    }
   ],
   "source": [
    "# images, flip_images폴더 경로 설정\n",
    "path_images = os.path.join(path_dir, \"images\")\n",
    "path_flip_images = os.path.join(path_dir, \"gray_images\")\n",
    "\n",
    "path_images, path_flip_images"
   ]
  },
  {
   "cell_type": "code",
   "execution_count": 102,
   "metadata": {},
   "outputs": [
    {
     "data": {
      "text/plain": [
       "1261"
      ]
     },
     "execution_count": 102,
     "metadata": {},
     "output_type": "execute_result"
    }
   ],
   "source": [
    "# json 파일 불러오기\n",
    "with open(os.path.join(path_images, \"via_region_data.json\"), \"r\", encoding='utf-8') as f:\n",
    "    content = json.load(f)\n",
    "\n",
    "# print(content, sep='')\n",
    "len(content)"
   ]
  },
  {
   "cell_type": "code",
   "execution_count": 103,
   "metadata": {},
   "outputs": [
    {
     "data": {
      "text/plain": [
       "1262"
      ]
     },
     "execution_count": 103,
     "metadata": {},
     "output_type": "execute_result"
    }
   ],
   "source": [
    "# images폴더에 있는 파일 모두 보기\n",
    "files = os.listdir(path_images)\n",
    "len(files)"
   ]
  },
  {
   "cell_type": "code",
   "execution_count": 104,
   "metadata": {},
   "outputs": [
    {
     "data": {
      "text/plain": [
       "1261"
      ]
     },
     "execution_count": 104,
     "metadata": {},
     "output_type": "execute_result"
    }
   ],
   "source": [
    "# 이미지(jpg, png, jpeg)만 보기\n",
    "imgFiles = [_ for _ in files if _.split(\".\")[-1].lower() in ['jpg', 'png', 'jpeg']]\n",
    "len(imgFiles)"
   ]
  },
  {
   "cell_type": "code",
   "execution_count": 111,
   "metadata": {},
   "outputs": [],
   "source": [
    "from PIL import Image\n",
    "\n",
    "aug = iaa.Grayscale(alpha=1) # 그레이스케일\n",
    "content_flip = copy.deepcopy(content) # 그레이스케일된 이미지의 json파일을 만들어주기 위해 기존 content를 복사합니다.\n",
    "\n",
    "# 이미지 개수만큼 반복\n",
    "for imgName in imgFiles:\n",
    "    image = imageio.imread(os.path.join(path_images, imgName))\n",
    "    imgSize = str(os.path.getsize(os.path.join(path_images, imgName))) # 파일 용량\n",
    "    \n",
    "    if len(image.shape) < 3:\n",
    "        image = np.expand_dims(image, axis=2)\n",
    "        \n",
    "    image_RGBA = Image.open(os.path.join(path_images, imgName))\n",
    "    img = np.array(image_RGBA.convert('RGB'))\n",
    "    \n",
    "    image_aug = aug(image=img)    \n",
    "    \n",
    "    imageio.imwrite(os.path.join(path_flip_images, f'flip_{imgName}'), image_aug[:, :, :3])\n",
    "    imgSize_flip = os.path.getsize(os.path.join(path_flip_images, f'flip_{imgName}')) # Flip된 이미지 파일 용량\n",
    "    \n",
    "    ################# content_flip의 size, filename, key를 바꿔줍니다. #################\n",
    "    content_flip[imgName+imgSize]['size'] = imgSize_flip # size를 바꿔줍니다. \n",
    "    content_flip[imgName+imgSize]['filename'] = f'flip_{imgName}' # filename을 바꿔줍니다.\n",
    "    content_flip[f'flip_{imgName}{imgSize_flip}'] = content_flip.pop(imgName+imgSize) # key를 바꿔줍니다.\n",
    "\n",
    "content.update(content_flip)\n",
    "\n",
    "with open(os.path.join(path_flip_images, 'flip_via_region_data.json'), 'w', encoding='utf-8') as f:\n",
    "    json.dump(content, f)"
   ]
  }
 ],
 "metadata": {
  "kernelspec": {
   "display_name": "Python 3",
   "language": "python",
   "name": "python3"
  },
  "language_info": {
   "codemirror_mode": {
    "name": "ipython",
    "version": 3
   },
   "file_extension": ".py",
   "mimetype": "text/x-python",
   "name": "python",
   "nbconvert_exporter": "python",
   "pygments_lexer": "ipython3",
   "version": "3.7.3"
  }
 },
 "nbformat": 4,
 "nbformat_minor": 2
}
